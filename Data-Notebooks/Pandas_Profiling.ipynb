{
 "cells": [
  {
   "cell_type": "code",
   "execution_count": null,
   "metadata": {},
   "outputs": [],
   "source": [
    "import pandas as pd\n",
    "from ydata_profiling import ProfileReport\n",
    "\n",
    "# use ' df = pd.read_csv(\"FILE_PATH\") ' for csv files\n",
    "\n",
    "# use df = pd.read_excel(\"FILE_PATH\") for Excel files\n",
    "\n",
    "# I have a csv so I will use read_csv\n",
    "df = pd.read_csv(\"FILE_PATH_FOR_YOUR_DATA\")\n",
    "\n",
    "# Give the report a Title\n",
    "profile = ProfileReport(df,title =\"Data Report\")\n",
    "\n",
    "# Point the Report file to wherever you want it to write\n",
    "profile.to_file('FILE_PATH_FOR_HTML')"
   ]
  }
 ],
 "metadata": {
  "language_info": {
   "name": "python"
  },
  "orig_nbformat": 4
 },
 "nbformat": 4,
 "nbformat_minor": 2
}
