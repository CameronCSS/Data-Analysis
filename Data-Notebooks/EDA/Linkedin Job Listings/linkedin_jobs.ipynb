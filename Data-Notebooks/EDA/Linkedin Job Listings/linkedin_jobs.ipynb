{
 "cells": [
  {
   "cell_type": "code",
   "execution_count": 14,
   "metadata": {},
   "outputs": [
    {
     "name": "stderr",
     "output_type": "stream",
     "text": [
      "Summarize dataset: 100%|██████████| 18/18 [00:00<00:00, 19.01it/s, Completed]                     \n",
      "Generate report structure: 100%|██████████| 1/1 [00:02<00:00,  2.46s/it]\n",
      "Render HTML: 100%|██████████| 1/1 [00:00<00:00,  2.59it/s]\n",
      "Export report to file: 100%|██████████| 1/1 [00:00<00:00, 86.87it/s]\n"
     ]
    }
   ],
   "source": [
    "import pandas as pd\n",
    "from ydata_profiling import ProfileReport\n",
    "\n",
    "# use ' df = pd.read_csv(\"FILE_PATH\") ' for csv files\n",
    "\n",
    "# use df = pd.read_excel(\"FILE_PATH\") for Excel files\n",
    "\n",
    "# I have a csv so I will use read_csv\n",
    "df = pd.read_csv(\"F:/Data Analyst/data sets/linkedin-jobs-usa.csv\")\n",
    "\n",
    "# Give the report a Title\n",
    "profile = ProfileReport(df,title =\"Data Report\")\n",
    "\n",
    "# Point the Report file to wherever you want it to write\n",
    "profile.to_file('F:/Data Analyst/data sets/linkedin-jobs-Report.html')"
   ]
  }
 ],
 "metadata": {
  "kernelspec": {
   "display_name": "Python 3",
   "language": "python",
   "name": "python3"
  },
  "language_info": {
   "codemirror_mode": {
    "name": "ipython",
    "version": 3
   },
   "file_extension": ".py",
   "mimetype": "text/x-python",
   "name": "python",
   "nbconvert_exporter": "python",
   "pygments_lexer": "ipython3",
   "version": "3.10.11"
  },
  "orig_nbformat": 4
 },
 "nbformat": 4,
 "nbformat_minor": 2
}
