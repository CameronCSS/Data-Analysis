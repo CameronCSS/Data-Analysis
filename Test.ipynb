{
 "cells": [
  {
   "cell_type": "code",
   "execution_count": 2,
   "metadata": {},
   "outputs": [],
   "source": [
    "import pandas as pd\n",
    "import os"
   ]
  },
  {
   "cell_type": "code",
   "execution_count": 3,
   "metadata": {},
   "outputs": [],
   "source": [
    "# set present working directory\n",
    "pwd = os.getcwd()"
   ]
  },
  {
   "cell_type": "code",
   "execution_count": 10,
   "metadata": {},
   "outputs": [],
   "source": [
    "# read in our dataset\n",
    "dataset = pd.read_excel(pwd + \"\\\\game_statistics_feb_2023.xlsx\", sheet_name=\"game_stats\")"
   ]
  },
  {
   "cell_type": "code",
   "execution_count": 13,
   "metadata": {},
   "outputs": [
    {
     "data": {
      "text/html": [
       "<div>\n",
       "<style scoped>\n",
       "    .dataframe tbody tr th:only-of-type {\n",
       "        vertical-align: middle;\n",
       "    }\n",
       "\n",
       "    .dataframe tbody tr th {\n",
       "        vertical-align: top;\n",
       "    }\n",
       "\n",
       "    .dataframe thead th {\n",
       "        text-align: right;\n",
       "    }\n",
       "</style>\n",
       "<table border=\"1\" class=\"dataframe\">\n",
       "  <thead>\n",
       "    <tr style=\"text-align: right;\">\n",
       "      <th></th>\n",
       "      <th>title</th>\n",
       "      <th>total_shipped</th>\n",
       "      <th>publisher</th>\n",
       "      <th>developer</th>\n",
       "      <th>release_date</th>\n",
       "      <th>platform</th>\n",
       "      <th>pos</th>\n",
       "    </tr>\n",
       "  </thead>\n",
       "  <tbody>\n",
       "    <tr>\n",
       "      <th>0</th>\n",
       "      <td>Tetris</td>\n",
       "      <td>496.40</td>\n",
       "      <td>The Tetris Company</td>\n",
       "      <td>Alexey Pajitnov</td>\n",
       "      <td>01st Jan 88</td>\n",
       "      <td>Series</td>\n",
       "      <td>1</td>\n",
       "    </tr>\n",
       "    <tr>\n",
       "      <th>1</th>\n",
       "      <td>Pokemon</td>\n",
       "      <td>464.84</td>\n",
       "      <td>Nintendo</td>\n",
       "      <td>Game Freak</td>\n",
       "      <td>28th Sep 98</td>\n",
       "      <td>Series</td>\n",
       "      <td>2</td>\n",
       "    </tr>\n",
       "    <tr>\n",
       "      <th>2</th>\n",
       "      <td>Call of Duty</td>\n",
       "      <td>400.00</td>\n",
       "      <td>Activision</td>\n",
       "      <td>Infinity Ward</td>\n",
       "      <td>29th Oct 03</td>\n",
       "      <td>Series</td>\n",
       "      <td>3</td>\n",
       "    </tr>\n",
       "    <tr>\n",
       "      <th>3</th>\n",
       "      <td>Super Mario</td>\n",
       "      <td>398.51</td>\n",
       "      <td>Nintendo</td>\n",
       "      <td>Nintendo</td>\n",
       "      <td>20th Jul 83</td>\n",
       "      <td>Series</td>\n",
       "      <td>4</td>\n",
       "    </tr>\n",
       "    <tr>\n",
       "      <th>4</th>\n",
       "      <td>Grand Theft Auto</td>\n",
       "      <td>395.00</td>\n",
       "      <td>Rockstar Games</td>\n",
       "      <td>Rockstar North</td>\n",
       "      <td>27th Mar 98</td>\n",
       "      <td>Series</td>\n",
       "      <td>5</td>\n",
       "    </tr>\n",
       "    <tr>\n",
       "      <th>...</th>\n",
       "      <td>...</td>\n",
       "      <td>...</td>\n",
       "      <td>...</td>\n",
       "      <td>...</td>\n",
       "      <td>...</td>\n",
       "      <td>...</td>\n",
       "      <td>...</td>\n",
       "    </tr>\n",
       "    <tr>\n",
       "      <th>39010</th>\n",
       "      <td>Zombie Brigade: No Brain No Gain</td>\n",
       "      <td>NaN</td>\n",
       "      <td>Unknown</td>\n",
       "      <td>Cypron Studios</td>\n",
       "      <td>NaN</td>\n",
       "      <td>WiiU</td>\n",
       "      <td>62509</td>\n",
       "    </tr>\n",
       "    <tr>\n",
       "      <th>39011</th>\n",
       "      <td>ZOMBIE GOLD RUSH</td>\n",
       "      <td>NaN</td>\n",
       "      <td>Amazing Inc.</td>\n",
       "      <td>Amazing Inc.</td>\n",
       "      <td>26th Oct 17</td>\n",
       "      <td>NS</td>\n",
       "      <td>62510</td>\n",
       "    </tr>\n",
       "    <tr>\n",
       "      <th>39012</th>\n",
       "      <td>Zombieland: Double Tap - Road Trip</td>\n",
       "      <td>NaN</td>\n",
       "      <td>GameMill Entertainment</td>\n",
       "      <td>High Voltage Software</td>\n",
       "      <td>15th Oct 19</td>\n",
       "      <td>NS</td>\n",
       "      <td>62511</td>\n",
       "    </tr>\n",
       "    <tr>\n",
       "      <th>39013</th>\n",
       "      <td>Zombillie</td>\n",
       "      <td>NaN</td>\n",
       "      <td>Forever Entertainment S.A.</td>\n",
       "      <td>Forever Entertainment S.A.</td>\n",
       "      <td>29th Mar 18</td>\n",
       "      <td>NS</td>\n",
       "      <td>62515</td>\n",
       "    </tr>\n",
       "    <tr>\n",
       "      <th>39014</th>\n",
       "      <td>Zoo Tycoon: Ultimate Animal Collection</td>\n",
       "      <td>NaN</td>\n",
       "      <td>Microsoft Studios</td>\n",
       "      <td>Frontier Developments</td>\n",
       "      <td>31st Oct 17</td>\n",
       "      <td>XOne</td>\n",
       "      <td>62517</td>\n",
       "    </tr>\n",
       "  </tbody>\n",
       "</table>\n",
       "<p>39015 rows × 7 columns</p>\n",
       "</div>"
      ],
      "text/plain": [
       "                                        title  total_shipped   \n",
       "0                                      Tetris         496.40  \\\n",
       "1                                     Pokemon         464.84   \n",
       "2                                Call of Duty         400.00   \n",
       "3                                 Super Mario         398.51   \n",
       "4                            Grand Theft Auto         395.00   \n",
       "...                                       ...            ...   \n",
       "39010        Zombie Brigade: No Brain No Gain            NaN   \n",
       "39011                        ZOMBIE GOLD RUSH            NaN   \n",
       "39012      Zombieland: Double Tap - Road Trip            NaN   \n",
       "39013                               Zombillie            NaN   \n",
       "39014  Zoo Tycoon: Ultimate Animal Collection            NaN   \n",
       "\n",
       "                        publisher                   developer release_date   \n",
       "0              The Tetris Company             Alexey Pajitnov  01st Jan 88  \\\n",
       "1                        Nintendo                  Game Freak  28th Sep 98   \n",
       "2                      Activision               Infinity Ward  29th Oct 03   \n",
       "3                        Nintendo                    Nintendo  20th Jul 83   \n",
       "4                  Rockstar Games              Rockstar North  27th Mar 98   \n",
       "...                           ...                         ...          ...   \n",
       "39010                     Unknown              Cypron Studios          NaN   \n",
       "39011                Amazing Inc.                Amazing Inc.  26th Oct 17   \n",
       "39012      GameMill Entertainment       High Voltage Software  15th Oct 19   \n",
       "39013  Forever Entertainment S.A.  Forever Entertainment S.A.  29th Mar 18   \n",
       "39014           Microsoft Studios       Frontier Developments  31st Oct 17   \n",
       "\n",
       "      platform    pos  \n",
       "0       Series      1  \n",
       "1       Series      2  \n",
       "2       Series      3  \n",
       "3       Series      4  \n",
       "4       Series      5  \n",
       "...        ...    ...  \n",
       "39010     WiiU  62509  \n",
       "39011       NS  62510  \n",
       "39012       NS  62511  \n",
       "39013       NS  62515  \n",
       "39014     XOne  62517  \n",
       "\n",
       "[39015 rows x 7 columns]"
      ]
     },
     "execution_count": 13,
     "metadata": {},
     "output_type": "execute_result"
    }
   ],
   "source": [
    "# check our dataset imported correctly\n",
    "dataset"
   ]
  },
  {
   "cell_type": "code",
   "execution_count": 14,
   "metadata": {},
   "outputs": [
    {
     "data": {
      "text/plain": [
       "Index(['title', 'total_shipped', 'publisher', 'developer', 'release_date',\n",
       "       'platform', 'pos'],\n",
       "      dtype='object')"
      ]
     },
     "execution_count": 14,
     "metadata": {},
     "output_type": "execute_result"
    }
   ],
   "source": [
    "# check our column names, trying to get an overall feel of the dataset\n",
    "dataset.columns"
   ]
  },
  {
   "cell_type": "code",
   "execution_count": 19,
   "metadata": {},
   "outputs": [
    {
     "data": {
      "text/plain": [
       "['title',\n",
       " 'total_shipped',\n",
       " 'publisher',\n",
       " 'developer',\n",
       " 'release_date',\n",
       " 'platform',\n",
       " 'pos']"
      ]
     },
     "execution_count": 19,
     "metadata": {},
     "output_type": "execute_result"
    }
   ],
   "source": [
    "# setting column names if we need it. so we can use the list instead of typing them all out\n",
    "columns = ['title', 'total_shipped', 'publisher', 'developer', 'release_date',\n",
    "       'platform', 'pos']\n",
    "columns"
   ]
  },
  {
   "cell_type": "code",
   "execution_count": 25,
   "metadata": {},
   "outputs": [
    {
     "data": {
      "text/plain": [
       "0              Tetris\n",
       "1             Pokemon\n",
       "2        Call of Duty\n",
       "3         Super Mario\n",
       "4    Grand Theft Auto\n",
       "5                FIFA\n",
       "6           Minecraft\n",
       "7                Lego\n",
       "8    Assassin's Creed\n",
       "9            The Sims\n",
       "Name: title, dtype: object"
      ]
     },
     "execution_count": 25,
     "metadata": {},
     "output_type": "execute_result"
    }
   ],
   "source": [
    "# Quick look at top 10 Titles\n",
    "dataset[\"title\"][0:10]"
   ]
  },
  {
   "cell_type": "code",
   "execution_count": 35,
   "metadata": {},
   "outputs": [
    {
     "data": {
      "text/plain": [
       "publisher\n",
       "Sega                           1354\n",
       "Microsoft                      1216\n",
       "Nintendo                       1174\n",
       "Konami                         1139\n",
       "Sony Computer Entertainment     923\n",
       "Ubisoft                         813\n",
       "Electronic Arts                 791\n",
       "Activision                      625\n",
       "Capcom                          577\n",
       "Atari                           531\n",
       "Name: count, dtype: int64"
      ]
     },
     "execution_count": 35,
     "metadata": {},
     "output_type": "execute_result"
    }
   ],
   "source": [
    "# quick look at top publishers, not counting the Unknown\n",
    "dataset[dataset[\"publisher\"] != \"Unknown\"][\"publisher\"].value_counts().head(10)\n"
   ]
  },
  {
   "cell_type": "code",
   "execution_count": null,
   "metadata": {},
   "outputs": [],
   "source": [
    "# Formulating Idea: What could we view or discover from this Data?\n",
    "\n",
    "##  Maybe we could compare Genres and what seems to be everyones favorite.\n",
    "\n",
    "## Would also be interesting to see Dates of teh most popular games. It feels like lately game quality has fallen even though overall amount spent and number of gamers has grown exponentially.\n",
    "\n",
    "## Genre is not currently in our dataset. We would have to add it using some Python code and Google API."
   ]
  }
 ],
 "metadata": {
  "kernelspec": {
   "display_name": "Python 3",
   "language": "python",
   "name": "python3"
  },
  "language_info": {
   "codemirror_mode": {
    "name": "ipython",
    "version": 3
   },
   "file_extension": ".py",
   "mimetype": "text/x-python",
   "name": "python",
   "nbconvert_exporter": "python",
   "pygments_lexer": "ipython3",
   "version": "3.10.11"
  },
  "orig_nbformat": 4
 },
 "nbformat": 4,
 "nbformat_minor": 2
}
